{
 "cells": [
  {
   "cell_type": "code",
   "execution_count": 1,
   "metadata": {},
   "outputs": [
    {
     "name": "stdout",
     "output_type": "stream",
     "text": [
      "Requirement already satisfied: wordcloud in c:\\users\\dell\\onedrive\\documents\\lib\\site-packages (1.9.3)\n",
      "Requirement already satisfied: pillow in c:\\users\\dell\\onedrive\\documents\\lib\\site-packages (from wordcloud) (8.4.0)"
     ]
    },
    {
     "name": "stderr",
     "output_type": "stream",
     "text": [
      "WARNING: Ignoring invalid distribution - (c:\\users\\dell\\onedrive\\documents\\lib\\site-packages)\n",
      "WARNING: Ignoring invalid distribution - (c:\\users\\dell\\onedrive\\documents\\lib\\site-packages)\n",
      "WARNING: Ignoring invalid distribution - (c:\\users\\dell\\onedrive\\documents\\lib\\site-packages)\n",
      "WARNING: Ignoring invalid distribution - (c:\\users\\dell\\onedrive\\documents\\lib\\site-packages)\n",
      "WARNING: Ignoring invalid distribution - (c:\\users\\dell\\onedrive\\documents\\lib\\site-packages)\n",
      "WARNING: Ignoring invalid distribution - (c:\\users\\dell\\onedrive\\documents\\lib\\site-packages)\n"
     ]
    },
    {
     "name": "stdout",
     "output_type": "stream",
     "text": [
      "\n",
      "Requirement already satisfied: numpy>=1.6.1 in c:\\users\\dell\\onedrive\\documents\\lib\\site-packages (from wordcloud) (1.26.3)\n",
      "Requirement already satisfied: matplotlib in c:\\users\\dell\\onedrive\\documents\\lib\\site-packages (from wordcloud) (3.4.3)\n",
      "Requirement already satisfied: python-dateutil>=2.7 in c:\\users\\dell\\onedrive\\documents\\lib\\site-packages (from matplotlib->wordcloud) (2.8.2)\n",
      "Requirement already satisfied: cycler>=0.10 in c:\\users\\dell\\onedrive\\documents\\lib\\site-packages (from matplotlib->wordcloud) (0.10.0)\n",
      "Requirement already satisfied: kiwisolver>=1.0.1 in c:\\users\\dell\\onedrive\\documents\\lib\\site-packages (from matplotlib->wordcloud) (1.3.1)\n",
      "Requirement already satisfied: pyparsing>=2.2.1 in c:\\users\\dell\\onedrive\\documents\\lib\\site-packages (from matplotlib->wordcloud) (3.0.4)\n",
      "Requirement already satisfied: six in c:\\users\\dell\\onedrive\\documents\\lib\\site-packages (from cycler>=0.10->matplotlib->wordcloud) (1.16.0)\n"
     ]
    }
   ],
   "source": [
    "!pip install wordcloud"
   ]
  },
  {
   "cell_type": "code",
   "execution_count": 2,
   "metadata": {},
   "outputs": [
    {
     "name": "stdout",
     "output_type": "stream",
     "text": [
      "Requirement already satisfied: textblob in c:\\users\\dell\\onedrive\\documents\\lib\\site-packages (0.17.1)\n",
      "Requirement already satisfied: nltk>=3.1 in c:\\users\\dell\\onedrive\\documents\\lib\\site-packages (from textblob) (3.6.5)\n",
      "Requirement already satisfied: click in c:\\users\\dell\\onedrive\\documents\\lib\\site-packages (from nltk>=3.1->textblob) (8.0.3)\n",
      "Requirement already satisfied: joblib in c:\\users\\dell\\onedrive\\documents\\lib\\site-packages (from nltk>=3.1->textblob) (1.1.0)\n",
      "Requirement already satisfied: regex>=2021.8.3 in c:\\users\\dell\\onedrive\\documents\\lib\\site-packages (from nltk>=3.1->textblob) (2021.8.3)\n",
      "Requirement already satisfied: tqdm in c:\\users\\dell\\onedrive\\documents\\lib\\site-packages (from nltk>=3.1->textblob) (4.62.3)\n",
      "Requirement already satisfied: colorama in c:\\users\\dell\\onedrive\\documents\\lib\\site-packages (from click->nltk>=3.1->textblob) (0.4.4)\n"
     ]
    },
    {
     "name": "stderr",
     "output_type": "stream",
     "text": [
      "WARNING: Ignoring invalid distribution - (c:\\users\\dell\\onedrive\\documents\\lib\\site-packages)\n",
      "WARNING: Ignoring invalid distribution - (c:\\users\\dell\\onedrive\\documents\\lib\\site-packages)\n",
      "WARNING: Ignoring invalid distribution - (c:\\users\\dell\\onedrive\\documents\\lib\\site-packages)\n",
      "WARNING: Ignoring invalid distribution - (c:\\users\\dell\\onedrive\\documents\\lib\\site-packages)\n",
      "WARNING: Ignoring invalid distribution - (c:\\users\\dell\\onedrive\\documents\\lib\\site-packages)\n",
      "WARNING: Ignoring invalid distribution - (c:\\users\\dell\\onedrive\\documents\\lib\\site-packages)\n"
     ]
    }
   ],
   "source": [
    "!pip install textblob"
   ]
  },
  {
   "cell_type": "code",
   "execution_count": 3,
   "metadata": {},
   "outputs": [
    {
     "name": "stdout",
     "output_type": "stream",
     "text": [
      "Requirement already satisfied: gensim in c:\\users\\dell\\onedrive\\documents\\lib\\site-packages (4.3.2)"
     ]
    },
    {
     "name": "stderr",
     "output_type": "stream",
     "text": [
      "WARNING: Ignoring invalid distribution - (c:\\users\\dell\\onedrive\\documents\\lib\\site-packages)\n",
      "WARNING: Ignoring invalid distribution - (c:\\users\\dell\\onedrive\\documents\\lib\\site-packages)\n",
      "WARNING: Ignoring invalid distribution - (c:\\users\\dell\\onedrive\\documents\\lib\\site-packages)\n",
      "    WARNING: Ignoring invalid distribution - (c:\\users\\dell\\onedrive\\documents\\lib\\site-packages)\n",
      "WARNING: Ignoring invalid distribution - (c:\\users\\dell\\onedrive\\documents\\lib\\site-packages)\n",
      "ERROR: pip's dependency resolver does not currently take into account all the packages that are installed. This behaviour is the source of the following dependency conflicts.\n",
      "daal4py 2021.3.0 requires daal==2021.2.3, which is not installed.\n",
      "tensorflow-intel 2.15.0 requires numpy<2.0.0,>=1.23.5, but you have numpy 1.22.4 which is incompatible.\n",
      "numba 0.54.1 requires numpy<1.21,>=1.17, but you have numpy 1.22.4 which is incompatible.\n",
      "WARNING: Ignoring invalid distribution - (c:\\users\\dell\\onedrive\\documents\\lib\\site-packages)\n",
      "WARNING: Ignoring invalid distribution - (c:\\users\\dell\\onedrive\\documents\\lib\\site-packages)\n",
      "WARNING: Ignoring invalid distribution - (c:\\users\\dell\\onedrive\\documents\\lib\\site-packages)\n"
     ]
    },
    {
     "name": "stdout",
     "output_type": "stream",
     "text": [
      "\n",
      "Requirement already satisfied: scipy>=1.7.0 in c:\\users\\dell\\onedrive\\documents\\lib\\site-packages (from gensim) (1.7.1)\n",
      "Requirement already satisfied: numpy>=1.18.5 in c:\\users\\dell\\onedrive\\documents\\lib\\site-packages (from gensim) (1.26.3)\n",
      "Requirement already satisfied: smart-open>=1.8.1 in c:\\users\\dell\\onedrive\\documents\\lib\\site-packages (from gensim) (6.4.0)\n",
      "Collecting numpy>=1.18.5\n",
      "  Using cached numpy-1.22.4-cp39-cp39-win_amd64.whl (14.7 MB)\n",
      "Installing collected packages: numpy\n",
      "  Attempting uninstall: numpy\n",
      "    Found existing installation: numpy 1.26.3\n",
      "    Uninstalling numpy-1.26.3:\n",
      "      Successfully uninstalled numpy-1.26.3\n",
      "Successfully installed numpy-1.22.4\n"
     ]
    }
   ],
   "source": [
    "!pip install gensim"
   ]
  },
  {
   "cell_type": "code",
   "execution_count": 4,
   "metadata": {},
   "outputs": [
    {
     "name": "stdout",
     "output_type": "stream",
     "text": [
      "Requirement already satisfied: numpy in c:\\users\\dell\\onedrive\\documents\\lib\\site-packages (1.22.4)Note: you may need to restart the kernel to use updated packages.\n"
     ]
    },
    {
     "name": "stderr",
     "output_type": "stream",
     "text": [
      "WARNING: Ignoring invalid distribution - (c:\\users\\dell\\onedrive\\documents\\lib\\site-packages)"
     ]
    },
    {
     "name": "stdout",
     "output_type": "stream",
     "text": [
      "\n",
      "Requirement already satisfied: tensorflow in c:\\users\\dell\\onedrive\\documents\\lib\\site-packages (2.15.0)\n",
      "Requirement already satisfied: tensorflow-intel==2.15.0 in c:\\users\\dell\\onedrive\\documents\\lib\\site-packages (from tensorflow) (2.15.0)\n",
      "Requirement already satisfied: google-pasta>=0.1.1 in c:\\users\\dell\\onedrive\\documents\\lib\\site-packages (from tensorflow-intel==2.15.0->tensorflow) (0.2.0)\n",
      "Requirement already satisfied: six>=1.12.0 in c:\\users\\dell\\onedrive\\documents\\lib\\site-packages (from tensorflow-intel==2.15.0->tensorflow) (1.16.0)\n",
      "Requirement already satisfied: libclang>=13.0.0 in c:\\users\\dell\\onedrive\\documents\\lib\\site-packages (from tensorflow-intel==2.15.0->tensorflow) (16.0.6)\n",
      "Requirement already satisfied: wrapt<1.15,>=1.11.0 in c:\\users\\dell\\onedrive\\documents\\lib\\site-packages (from tensorflow-intel==2.15.0->tensorflow) (1.12.1)\n",
      "Requirement already satisfied: opt-einsum>=2.3.2 in c:\\users\\dell\\onedrive\\documents\\lib\\site-packages (from tensorflow-intel==2.15.0->tensorflow) (3.3.0)\n",
      "Requirement already satisfied: tensorflow-io-gcs-filesystem>=0.23.1 in c:\\users\\dell\\onedrive\\documents\\lib\\site-packages (from tensorflow-intel==2.15.0->tensorflow) (0.31.0)\n",
      "Requirement already satisfied: tensorboard<2.16,>=2.15 in c:\\users\\dell\\onedrive\\documents\\lib\\site-packages (from tensorflow-intel==2.15.0->tensorflow) (2.15.1)\n",
      "Requirement already satisfied: ml-dtypes~=0.2.0 in c:\\users\\dell\\onedrive\\documents\\lib\\site-packages (from tensorflow-intel==2.15.0->tensorflow) (0.2.0)\n",
      "Requirement already satisfied: flatbuffers>=23.5.26 in c:\\users\\dell\\onedrive\\documents\\lib\\site-packages (from tensorflow-intel==2.15.0->tensorflow) (23.5.26)\n",
      "Requirement already satisfied: typing-extensions>=3.6.6 in c:\\users\\dell\\onedrive\\documents\\lib\\site-packages (from tensorflow-intel==2.15.0->tensorflow) (4.9.0)\n",
      "Requirement already satisfied: absl-py>=1.0.0 in c:\\users\\dell\\onedrive\\documents\\lib\\site-packages (from tensorflow-intel==2.15.0->tensorflow) (2.1.0)\n",
      "Requirement already satisfied: setuptools in c:\\users\\dell\\onedrive\\documents\\lib\\site-packages (from tensorflow-intel==2.15.0->tensorflow) (58.0.4)\n",
      "Requirement already satisfied: grpcio<2.0,>=1.24.3 in c:\\users\\dell\\onedrive\\documents\\lib\\site-packages (from tensorflow-intel==2.15.0->tensorflow) (1.60.0)\n",
      "Requirement already satisfied: protobuf!=4.21.0,!=4.21.1,!=4.21.2,!=4.21.3,!=4.21.4,!=4.21.5,<5.0.0dev,>=3.20.3 in c:\\users\\dell\\onedrive\\documents\\lib\\site-packages (from tensorflow-intel==2.15.0->tensorflow) (4.23.4)\n",
      "Requirement already satisfied: termcolor>=1.1.0 in c:\\users\\dell\\onedrive\\documents\\lib\\site-packages (from tensorflow-intel==2.15.0->tensorflow) (2.4.0)\n",
      "Requirement already satisfied: astunparse>=1.6.0 in c:\\users\\dell\\onedrive\\documents\\lib\\site-packages (from tensorflow-intel==2.15.0->tensorflow) (1.6.3)\n",
      "Requirement already satisfied: gast!=0.5.0,!=0.5.1,!=0.5.2,>=0.2.1 in c:\\users\\dell\\onedrive\\documents\\lib\\site-packages (from tensorflow-intel==2.15.0->tensorflow) (0.5.4)\n",
      "Requirement already satisfied: h5py>=2.9.0 in c:\\users\\dell\\onedrive\\documents\\lib\\site-packages (from tensorflow-intel==2.15.0->tensorflow) (3.2.1)\n",
      "Requirement already satisfied: packaging in c:\\users\\dell\\onedrive\\documents\\lib\\site-packages (from tensorflow-intel==2.15.0->tensorflow) (23.2)\n",
      "Collecting numpy\n",
      "  Using cached numpy-1.26.3-cp39-cp39-win_amd64.whl (15.8 MB)\n",
      "Requirement already satisfied: keras<2.16,>=2.15.0 in c:\\users\\dell\\onedrive\\documents\\lib\\site-packages (from tensorflow-intel==2.15.0->tensorflow) (2.15.0)\n",
      "Requirement already satisfied: tensorflow-estimator<2.16,>=2.15.0 in c:\\users\\dell\\onedrive\\documents\\lib\\site-packages (from tensorflow-intel==2.15.0->tensorflow) (2.15.0)\n",
      "Requirement already satisfied: wheel<1.0,>=0.23.0 in c:\\users\\dell\\onedrive\\documents\\lib\\site-packages (from astunparse>=1.6.0->tensorflow-intel==2.15.0->tensorflow) (0.37.0)\n",
      "Requirement already satisfied: werkzeug>=1.0.1 in c:\\users\\dell\\onedrive\\documents\\lib\\site-packages (from tensorboard<2.16,>=2.15->tensorflow-intel==2.15.0->tensorflow) (2.0.2)\n",
      "Requirement already satisfied: requests<3,>=2.21.0 in c:\\users\\dell\\onedrive\\documents\\lib\\site-packages (from tensorboard<2.16,>=2.15->tensorflow-intel==2.15.0->tensorflow) (2.26.0)\n",
      "Requirement already satisfied: tensorboard-data-server<0.8.0,>=0.7.0 in c:\\users\\dell\\onedrive\\documents\\lib\\site-packages (from tensorboard<2.16,>=2.15->tensorflow-intel==2.15.0->tensorflow) (0.7.2)\n",
      "Requirement already satisfied: google-auth<3,>=1.6.3 in c:\\users\\dell\\onedrive\\documents\\lib\\site-packages (from tensorboard<2.16,>=2.15->tensorflow-intel==2.15.0->tensorflow) (2.27.0)\n",
      "Requirement already satisfied: google-auth-oauthlib<2,>=0.5 in c:\\users\\dell\\onedrive\\documents\\lib\\site-packages (from tensorboard<2.16,>=2.15->tensorflow-intel==2.15.0->tensorflow) (1.2.0)\n",
      "Requirement already satisfied: markdown>=2.6.8 in c:\\users\\dell\\onedrive\\documents\\lib\\site-packages (from tensorboard<2.16,>=2.15->tensorflow-intel==2.15.0->tensorflow) (3.5.2)\n",
      "Requirement already satisfied: cachetools<6.0,>=2.0.0 in c:\\users\\dell\\onedrive\\documents\\lib\\site-packages (from google-auth<3,>=1.6.3->tensorboard<2.16,>=2.15->tensorflow-intel==2.15.0->tensorflow) (5.3.2)\n",
      "Requirement already satisfied: pyasn1-modules>=0.2.1 in c:\\users\\dell\\onedrive\\documents\\lib\\site-packages (from google-auth<3,>=1.6.3->tensorboard<2.16,>=2.15->tensorflow-intel==2.15.0->tensorflow) (0.3.0)\n",
      "Requirement already satisfied: rsa<5,>=3.1.4 in c:\\users\\dell\\onedrive\\documents\\lib\\site-packages (from google-auth<3,>=1.6.3->tensorboard<2.16,>=2.15->tensorflow-intel==2.15.0->tensorflow) (4.9)\n",
      "Requirement already satisfied: requests-oauthlib>=0.7.0 in c:\\users\\dell\\onedrive\\documents\\lib\\site-packages (from google-auth-oauthlib<2,>=0.5->tensorboard<2.16,>=2.15->tensorflow-intel==2.15.0->tensorflow) (1.3.1)\n",
      "Requirement already satisfied: importlib-metadata>=4.4 in c:\\users\\dell\\onedrive\\documents\\lib\\site-packages (from markdown>=2.6.8->tensorboard<2.16,>=2.15->tensorflow-intel==2.15.0->tensorflow) (4.8.1)\n",
      "Requirement already satisfied: zipp>=0.5 in c:\\users\\dell\\onedrive\\documents\\lib\\site-packages (from importlib-metadata>=4.4->markdown>=2.6.8->tensorboard<2.16,>=2.15->tensorflow-intel==2.15.0->tensorflow) (3.6.0)\n",
      "Requirement already satisfied: pyasn1<0.6.0,>=0.4.6 in c:\\users\\dell\\onedrive\\documents\\lib\\site-packages (from pyasn1-modules>=0.2.1->google-auth<3,>=1.6.3->tensorboard<2.16,>=2.15->tensorflow-intel==2.15.0->tensorflow) (0.5.1)\n",
      "Requirement already satisfied: idna<4,>=2.5 in c:\\users\\dell\\onedrive\\documents\\lib\\site-packages (from requests<3,>=2.21.0->tensorboard<2.16,>=2.15->tensorflow-intel==2.15.0->tensorflow) (3.2)\n",
      "Requirement already satisfied: certifi>=2017.4.17 in c:\\users\\dell\\onedrive\\documents\\lib\\site-packages (from requests<3,>=2.21.0->tensorboard<2.16,>=2.15->tensorflow-intel==2.15.0->tensorflow) (2021.10.8)\n",
      "Requirement already satisfied: urllib3<1.27,>=1.21.1 in c:\\users\\dell\\onedrive\\documents\\lib\\site-packages (from requests<3,>=2.21.0->tensorboard<2.16,>=2.15->tensorflow-intel==2.15.0->tensorflow) (1.26.7)\n",
      "Requirement already satisfied: charset-normalizer~=2.0.0 in c:\\users\\dell\\onedrive\\documents\\lib\\site-packages (from requests<3,>=2.21.0->tensorboard<2.16,>=2.15->tensorflow-intel==2.15.0->tensorflow) (2.0.4)\n",
      "Requirement already satisfied: oauthlib>=3.0.0 in c:\\users\\dell\\onedrive\\documents\\lib\\site-packages (from requests-oauthlib>=0.7.0->google-auth-oauthlib<2,>=0.5->tensorboard<2.16,>=2.15->tensorflow-intel==2.15.0->tensorflow) (3.2.2)\n",
      "Installing collected packages: numpy\n",
      "  Attempting uninstall: numpy\n",
      "    Found existing installation: numpy 1.22.4\n",
      "    Uninstalling numpy-1.22.4:\n",
      "      Successfully uninstalled numpy-1.22.4\n",
      "Successfully installed numpy-1.26.3\n"
     ]
    },
    {
     "name": "stderr",
     "output_type": "stream",
     "text": [
      "\n",
      "WARNING: Ignoring invalid distribution - (c:\\users\\dell\\onedrive\\documents\\lib\\site-packages)\n",
      "WARNING: Ignoring invalid distribution - (c:\\users\\dell\\onedrive\\documents\\lib\\site-packages)\n",
      "    WARNING: Ignoring invalid distribution - (c:\\users\\dell\\onedrive\\documents\\lib\\site-packages)\n",
      "WARNING: Ignoring invalid distribution - (c:\\users\\dell\\onedrive\\documents\\lib\\site-packages)\n",
      "ERROR: pip's dependency resolver does not currently take into account all the packages that are installed. This behaviour is the source of the following dependency conflicts.\n",
      "daal4py 2021.3.0 requires daal==2021.2.3, which is not installed.\n",
      "scipy 1.7.1 requires numpy<1.23.0,>=1.16.5, but you have numpy 1.26.3 which is incompatible.\n",
      "numba 0.54.1 requires numpy<1.21,>=1.17, but you have numpy 1.26.3 which is incompatible.\n",
      "WARNING: Ignoring invalid distribution - (c:\\users\\dell\\onedrive\\documents\\lib\\site-packages)\n",
      "WARNING: Ignoring invalid distribution - (c:\\users\\dell\\onedrive\\documents\\lib\\site-packages)\n",
      "WARNING: Ignoring invalid distribution - (c:\\users\\dell\\onedrive\\documents\\lib\\site-packages)\n"
     ]
    }
   ],
   "source": [
    "pip install numpy tensorflow"
   ]
  },
  {
   "cell_type": "code",
   "execution_count": 5,
   "metadata": {},
   "outputs": [
    {
     "name": "stdout",
     "output_type": "stream",
     "text": [
      "Requirement already satisfied: numpy in c:\\users\\dell\\onedrive\\documents\\lib\\site-packages (1.26.3)\n",
      "Note: you may need to restart the kernel to use updated packages.\n"
     ]
    },
    {
     "name": "stderr",
     "output_type": "stream",
     "text": [
      "WARNING: Ignoring invalid distribution - (c:\\users\\dell\\onedrive\\documents\\lib\\site-packages)\n",
      "WARNING: Ignoring invalid distribution - (c:\\users\\dell\\onedrive\\documents\\lib\\site-packages)\n",
      "WARNING: Ignoring invalid distribution - (c:\\users\\dell\\onedrive\\documents\\lib\\site-packages)\n",
      "WARNING: Ignoring invalid distribution - (c:\\users\\dell\\onedrive\\documents\\lib\\site-packages)\n",
      "WARNING: Ignoring invalid distribution - (c:\\users\\dell\\onedrive\\documents\\lib\\site-packages)\n",
      "WARNING: Ignoring invalid distribution - (c:\\users\\dell\\onedrive\\documents\\lib\\site-packages)\n"
     ]
    }
   ],
   "source": [
    "pip install --upgrade numpy"
   ]
  },
  {
   "cell_type": "code",
   "execution_count": 6,
   "metadata": {},
   "outputs": [
    {
     "name": "stdout",
     "output_type": "stream",
     "text": [
      "Requirement already satisfied: transformers in c:\\users\\dell\\onedrive\\documents\\lib\\site-packages (4.37.1)\n",
      "Requirement already satisfied: tokenizers<0.19,>=0.14 in c:\\users\\dell\\onedrive\\documents\\lib\\site-packages (from transformers) (0.15.1)\n",
      "Requirement already satisfied: safetensors>=0.3.1 in c:\\users\\dell\\onedrive\\documents\\lib\\site-packages (from transformers) (0.4.2)\n",
      "Requirement already satisfied: tqdm>=4.27 in c:\\users\\dell\\onedrive\\documents\\lib\\site-packages (from transformers) (4.62.3)\n",
      "Requirement already satisfied: filelock in c:\\users\\dell\\onedrive\\documents\\lib\\site-packages (from transformers) (3.3.1)\n",
      "Requirement already satisfied: numpy>=1.17 in c:\\users\\dell\\onedrive\\documents\\lib\\site-packages (from transformers) (1.26.3)\n",
      "Requirement already satisfied: pyyaml>=5.1 in c:\\users\\dell\\onedrive\\documents\\lib\\site-packages (from transformers) (6.0)\n",
      "Requirement already satisfied: regex!=2019.12.17 in c:\\users\\dell\\onedrive\\documents\\lib\\site-packages (from transformers) (2021.8.3)\n",
      "Requirement already satisfied: huggingface-hub<1.0,>=0.19.3 in c:\\users\\dell\\onedrive\\documents\\lib\\site-packages (from transformers) (0.20.3)\n",
      "Requirement already satisfied: requests in c:\\users\\dell\\onedrive\\documents\\lib\\site-packages (from transformers) (2.26.0)\n",
      "Requirement already satisfied: packaging>=20.0 in c:\\users\\dell\\onedrive\\documents\\lib\\site-packages (from transformers) (23.2)\n",
      "Requirement already satisfied: typing-extensions>=3.7.4.3 in c:\\users\\dell\\onedrive\\documents\\lib\\site-packages (from huggingface-hub<1.0,>=0.19.3->transformers) (4.9.0)\n",
      "Requirement already satisfied: fsspec>=2023.5.0 in c:\\users\\dell\\onedrive\\documents\\lib\\site-packages (from huggingface-hub<1.0,>=0.19.3->transformers) (2023.12.2)\n",
      "Requirement already satisfied: colorama in c:\\users\\dell\\onedrive\\documents\\lib\\site-packages (from tqdm>=4.27->transformers) (0.4.4)\n",
      "Requirement already satisfied: certifi>=2017.4.17 in c:\\users\\dell\\onedrive\\documents\\lib\\site-packages (from requests->transformers) (2021.10.8)\n",
      "Requirement already satisfied: idna<4,>=2.5 in c:\\users\\dell\\onedrive\\documents\\lib\\site-packages (from requests->transformers) (3.2)\n",
      "Requirement already satisfied: charset-normalizer~=2.0.0 in c:\\users\\dell\\onedrive\\documents\\lib\\site-packages (from requests->transformers) (2.0.4)\n",
      "Requirement already satisfied: urllib3<1.27,>=1.21.1 in c:\\users\\dell\\onedrive\\documents\\lib\\site-packages (from requests->transformers) (1.26.7)\n",
      "Note: you may need to restart the kernel to use updated packages.\n"
     ]
    },
    {
     "name": "stderr",
     "output_type": "stream",
     "text": [
      "WARNING: Ignoring invalid distribution - (c:\\users\\dell\\onedrive\\documents\\lib\\site-packages)\n",
      "WARNING: Ignoring invalid distribution - (c:\\users\\dell\\onedrive\\documents\\lib\\site-packages)\n",
      "WARNING: Ignoring invalid distribution - (c:\\users\\dell\\onedrive\\documents\\lib\\site-packages)\n",
      "WARNING: Ignoring invalid distribution - (c:\\users\\dell\\onedrive\\documents\\lib\\site-packages)\n",
      "WARNING: Ignoring invalid distribution - (c:\\users\\dell\\onedrive\\documents\\lib\\site-packages)\n",
      "WARNING: Ignoring invalid distribution - (c:\\users\\dell\\onedrive\\documents\\lib\\site-packages)\n"
     ]
    }
   ],
   "source": [
    "pip install transformers"
   ]
  },
  {
   "cell_type": "code",
   "execution_count": 7,
   "metadata": {},
   "outputs": [
    {
     "name": "stdout",
     "output_type": "stream",
     "text": [
      "Requirement already satisfied: contractions in c:\\users\\dell\\onedrive\\documents\\lib\\site-packages (0.1.73)\n",
      "Requirement already satisfied: textsearch>=0.0.21 in c:\\users\\dell\\onedrive\\documents\\lib\\site-packages (from contractions) (0.0.24)\n",
      "Requirement already satisfied: anyascii in c:\\users\\dell\\onedrive\\documents\\lib\\site-packages (from textsearch>=0.0.21->contractions) (0.3.2)\n",
      "Requirement already satisfied: pyahocorasick in c:\\users\\dell\\onedrive\\documents\\lib\\site-packages (from textsearch>=0.0.21->contractions) (2.0.0)\n",
      "Note: you may need to restart the kernel to use updated packages.\n"
     ]
    },
    {
     "name": "stderr",
     "output_type": "stream",
     "text": [
      "WARNING: Ignoring invalid distribution - (c:\\users\\dell\\onedrive\\documents\\lib\\site-packages)\n",
      "WARNING: Ignoring invalid distribution - (c:\\users\\dell\\onedrive\\documents\\lib\\site-packages)\n",
      "WARNING: Ignoring invalid distribution - (c:\\users\\dell\\onedrive\\documents\\lib\\site-packages)\n",
      "WARNING: Ignoring invalid distribution - (c:\\users\\dell\\onedrive\\documents\\lib\\site-packages)\n",
      "WARNING: Ignoring invalid distribution - (c:\\users\\dell\\onedrive\\documents\\lib\\site-packages)\n",
      "WARNING: Ignoring invalid distribution - (c:\\users\\dell\\onedrive\\documents\\lib\\site-packages)\n"
     ]
    }
   ],
   "source": [
    "pip install contractions"
   ]
  },
  {
   "cell_type": "code",
   "execution_count": 8,
   "metadata": {},
   "outputs": [
    {
     "name": "stderr",
     "output_type": "stream",
     "text": [
      "C:\\Users\\Dell\\OneDrive\\Documents\\lib\\site-packages\\scipy\\__init__.py:146: UserWarning: A NumPy version >=1.16.5 and <1.23.0 is required for this version of SciPy (detected version 1.26.3\n",
      "  warnings.warn(f\"A NumPy version >={np_minversion} and <{np_maxversion}\"\n"
     ]
    },
    {
     "name": "stdout",
     "output_type": "stream",
     "text": [
      "WARNING:tensorflow:From C:\\Users\\Dell\\OneDrive\\Documents\\lib\\site-packages\\keras\\src\\losses.py:2976: The name tf.losses.sparse_softmax_cross_entropy is deprecated. Please use tf.compat.v1.losses.sparse_softmax_cross_entropy instead.\n",
      "\n"
     ]
    }
   ],
   "source": [
    "import numpy as np\n",
    "import pandas as pd\n",
    "import matplotlib.pyplot as plt\n",
    "import seaborn as sns\n",
    "%matplotlib inline\n",
    "\n",
    "import re\n",
    "import string\n",
    "from wordcloud import WordCloud\n",
    "\n",
    "from textblob import TextBlob\n",
    "\n",
    "import nltk\n",
    "from nltk.corpus import wordnet\n",
    "from nltk.stem import WordNetLemmatizer\n",
    "from nltk.corpus import stopwords\n",
    "from nltk.stem.porter import PorterStemmer\n",
    "from sklearn.feature_extraction.text import CountVectorizer, TfidfVectorizer\n",
    "from gensim.models import word2vec\n",
    "\n",
    "from collections import Counter\n",
    "from sklearn.model_selection import train_test_split\n",
    "from sklearn.metrics import log_loss\n",
    "from sklearn.pipeline import Pipeline\n",
    "\n",
    "import keras\n",
    "import tensorflow as tf\n",
    "from tensorflow.keras.preprocessing.text import Tokenizer\n",
    "from keras.preprocessing.sequence import pad_sequences\n",
    "from keras.models import Sequential\n",
    "from keras.layers import Dense, Flatten, Embedding, Conv1D, MaxPooling1D\n",
    "from tensorflow.keras.optimizers import Adam\n",
    "\n",
    "import transformers\n",
    "from transformers import AutoTokenizer, AutoModelForSequenceClassification, TextClassificationPipeline\n",
    "\n",
    "import joblib\n",
    "from tqdm import tqdm\n",
    "import contractions\n",
    "\n"
   ]
  },
  {
   "cell_type": "code",
   "execution_count": 9,
   "metadata": {},
   "outputs": [],
   "source": [
    "data = pd.read_csv(\"Text_Dataset.csv\").drop(columns=['id', 'index', \"Annotation\"])\n",
    "data.columns = ['text', 'label']\n"
   ]
  },
  {
   "cell_type": "code",
   "execution_count": 10,
   "metadata": {},
   "outputs": [
    {
     "data": {
      "text/html": [
       "<div>\n",
       "<style scoped>\n",
       "    .dataframe tbody tr th:only-of-type {\n",
       "        vertical-align: middle;\n",
       "    }\n",
       "\n",
       "    .dataframe tbody tr th {\n",
       "        vertical-align: top;\n",
       "    }\n",
       "\n",
       "    .dataframe thead th {\n",
       "        text-align: right;\n",
       "    }\n",
       "</style>\n",
       "<table border=\"1\" class=\"dataframe\">\n",
       "  <thead>\n",
       "    <tr style=\"text-align: right;\">\n",
       "      <th></th>\n",
       "      <th>text</th>\n",
       "      <th>label</th>\n",
       "    </tr>\n",
       "  </thead>\n",
       "  <tbody>\n",
       "    <tr>\n",
       "      <th>0</th>\n",
       "      <td>@halalflaws @biebervalue @greenlinerzjm I read...</td>\n",
       "      <td>0.0</td>\n",
       "    </tr>\n",
       "    <tr>\n",
       "      <th>1</th>\n",
       "      <td>@ShreyaBafna3 Now you idiots claim that people...</td>\n",
       "      <td>0.0</td>\n",
       "    </tr>\n",
       "    <tr>\n",
       "      <th>2</th>\n",
       "      <td>RT @Mooseoftorment Call me sexist, but when I ...</td>\n",
       "      <td>1.0</td>\n",
       "    </tr>\n",
       "    <tr>\n",
       "      <th>3</th>\n",
       "      <td>@g0ssipsquirrelx Wrong, ISIS follows the examp...</td>\n",
       "      <td>1.0</td>\n",
       "    </tr>\n",
       "    <tr>\n",
       "      <th>4</th>\n",
       "      <td>#mkr No No No No No No</td>\n",
       "      <td>0.0</td>\n",
       "    </tr>\n",
       "  </tbody>\n",
       "</table>\n",
       "</div>"
      ],
      "text/plain": [
       "                                                text  label\n",
       "0  @halalflaws @biebervalue @greenlinerzjm I read...    0.0\n",
       "1  @ShreyaBafna3 Now you idiots claim that people...    0.0\n",
       "2  RT @Mooseoftorment Call me sexist, but when I ...    1.0\n",
       "3  @g0ssipsquirrelx Wrong, ISIS follows the examp...    1.0\n",
       "4                             #mkr No No No No No No    0.0"
      ]
     },
     "execution_count": 10,
     "metadata": {},
     "output_type": "execute_result"
    }
   ],
   "source": [
    "data.head()"
   ]
  },
  {
   "cell_type": "code",
   "execution_count": 11,
   "metadata": {},
   "outputs": [
    {
     "data": {
      "text/plain": [
       "\"RT @octal: Wow. This really isn't how to do customer support. https://t.co/fHLfHyunuu\""
      ]
     },
     "execution_count": 11,
     "metadata": {},
     "output_type": "execute_result"
    }
   ],
   "source": [
    "data['text'].sample(10).values[0]"
   ]
  },
  {
   "cell_type": "code",
   "execution_count": 12,
   "metadata": {},
   "outputs": [
    {
     "data": {
      "text/plain": [
       "'@halalflaws @biebervalue @greenlinerzjm I read them in context.No change in meaning. The history of Islamic slavery. https://t.co/xWJzpSodGj'"
      ]
     },
     "execution_count": 12,
     "metadata": {},
     "output_type": "execute_result"
    }
   ],
   "source": [
    "data['text'][0]"
   ]
  },
  {
   "cell_type": "code",
   "execution_count": 13,
   "metadata": {},
   "outputs": [
    {
     "data": {
      "image/png": "[encoded data removed]",
      "text/plain": [
       "<Figure size 432x288 with 1 Axes>"
      ]
     },
     "metadata": {
      "needs_background": "light"
     },
     "output_type": "display_data"
    }
   ],
   "source": [
    "data['label'].value_counts().plot(kind='bar', color=sns.color_palette('pastel'))\n",
    "plt.xticks([0,1],['positive', 'negative'], rotation=0);"
   ]
  },
  {
   "cell_type": "code",
   "execution_count": 14,
   "metadata": {},
   "outputs": [
    {
     "name": "stderr",
     "output_type": "stream",
     "text": [
      "[nltk_data] Downloading package words to\n",
      "[nltk_data]     C:\\Users\\Dell\\AppData\\Roaming\\nltk_data...\n",
      "[nltk_data]   Package words is already up-to-date!\n"
     ]
    }
   ],
   "source": [
    "import nltk\n",
    "nltk.download('words')\n",
    "only_english = set(nltk.corpus.words.words())\n",
    "def clean_text(text):\n",
    "    \n",
    "    sample = text\n",
    "    sample = \" \".join([x.lower() for x in sample.split()])\n",
    "    sample = re.sub(r\"\\S*https?:\\S*\", '', sample) #links and urls\n",
    "    sample = re.sub('\\[.*?\\]', '', sample) #text between [square brackets]\n",
    "    sample = re.sub('\\(.*?\\)', '', sample) #text between (parenthesis)\n",
    "    sample = re.sub('#', ' ', sample) #remove hashtags\n",
    "    sample = ' '.join([x for x in sample.split() if not x.startswith('@')]) # remove mentions with @\n",
    "    sample = \" \".join([contractions.fix(x) for x in sample.split()])  # fixes contractions like you're to you are\n",
    "    sample = re.sub('[%s]' % re.escape(string.punctuation), ' ', sample) #punctuations\n",
    "    sample = re.sub('\\w*\\d\\w', '', sample) #digits with trailing or preceeding text\n",
    "    sample = re.sub(r'\\n', ' ', sample) #new line character\n",
    "    sample = re.sub(r'\\\\n', ' ', sample) #new line character\n",
    "    sample = re.sub(\"[''\"\"...“”‘’…]\", '', sample) #list of quotation marks\n",
    "    sample = \" \".join(x.strip() for x in sample.split()) #strips whitespace\n",
    "    sample = re.sub(r', /<[^>]+>/', '', sample)    #HTML attributes\n",
    "    \n",
    "    sample = ' '.join(list(filter(lambda ele: re.search(\"[a-zA-Z\\s]+\", ele) is not None, sample.split()))) #languages other than english\n",
    "    \n",
    "    sample = re.compile(\"[\"\n",
    "                               u\"\\U0001F600-\\U0001F64F\"  # emoticons\n",
    "                               u\"\\U0001F300-\\U0001F5FF\"  # symbols & pictographs\n",
    "                               u\"\\U0001F680-\\U0001F6FF\"  # transport & map symbols\n",
    "                               u\"\\U0001F1E0-\\U0001F1FF\"  # flags (iOS)\n",
    "                               u\"\\U00002500-\\U00002BEF\"  # chinese char\n",
    "                               u\"\\U00002702-\\U000027B0\"\n",
    "                               u\"\\U00002702-\\U000027B0\"\n",
    "                               u\"\\U000024C2-\\U0001F251\"\n",
    "                               u\"\\U0001f926-\\U0001f937\"\n",
    "                               u\"\\U00010000-\\U0010ffff\"\n",
    "                               u\"\\u2640-\\u2642\"\n",
    "                               u\"\\u2600-\\u2B55\"\n",
    "                               u\"\\u200d\"\n",
    "                               u\"\\u23cf\"\n",
    "                               u\"\\u23e9\"\n",
    "                               u\"\\u231a\"\n",
    "                               u\"\\ufe0f\"  # dingbats\n",
    "                               u\"\\u3030\"\n",
    "                               \"]+\", flags=re.UNICODE).sub(r'', sample) #emojis and symbols\n",
    "    sample = sample.strip()\n",
    "    sample = \" \".join([x.strip() for x in sample.split()])\n",
    "    \n",
    "    return sample"
   ]
  },
  {
   "cell_type": "code",
   "execution_count": 15,
   "metadata": {},
   "outputs": [
    {
     "data": {
      "text/html": [
       "<div>\n",
       "<style scoped>\n",
       "    .dataframe tbody tr th:only-of-type {\n",
       "        vertical-align: middle;\n",
       "    }\n",
       "\n",
       "    .dataframe tbody tr th {\n",
       "        vertical-align: top;\n",
       "    }\n",
       "\n",
       "    .dataframe thead th {\n",
       "        text-align: right;\n",
       "    }\n",
       "</style>\n",
       "<table border=\"1\" class=\"dataframe\">\n",
       "  <thead>\n",
       "    <tr style=\"text-align: right;\">\n",
       "      <th></th>\n",
       "      <th>text</th>\n",
       "      <th>label</th>\n",
       "      <th>cleaned_text</th>\n",
       "    </tr>\n",
       "  </thead>\n",
       "  <tbody>\n",
       "    <tr>\n",
       "      <th>0</th>\n",
       "      <td>@halalflaws @biebervalue @greenlinerzjm I read...</td>\n",
       "      <td>0.0</td>\n",
       "      <td>i read them in context no change in meaning th...</td>\n",
       "    </tr>\n",
       "    <tr>\n",
       "      <th>1</th>\n",
       "      <td>@ShreyaBafna3 Now you idiots claim that people...</td>\n",
       "      <td>0.0</td>\n",
       "      <td>now you idiots claim that people who tried to ...</td>\n",
       "    </tr>\n",
       "    <tr>\n",
       "      <th>2</th>\n",
       "      <td>RT @Mooseoftorment Call me sexist, but when I ...</td>\n",
       "      <td>1.0</td>\n",
       "      <td>rt call me sexist but when i go to an auto pla...</td>\n",
       "    </tr>\n",
       "    <tr>\n",
       "      <th>3</th>\n",
       "      <td>@g0ssipsquirrelx Wrong, ISIS follows the examp...</td>\n",
       "      <td>1.0</td>\n",
       "      <td>wrong isis follows the example of mohammed and...</td>\n",
       "    </tr>\n",
       "    <tr>\n",
       "      <th>4</th>\n",
       "      <td>#mkr No No No No No No</td>\n",
       "      <td>0.0</td>\n",
       "      <td>mkr no no no no no no</td>\n",
       "    </tr>\n",
       "    <tr>\n",
       "      <th>...</th>\n",
       "      <td>...</td>\n",
       "      <td>...</td>\n",
       "      <td>...</td>\n",
       "    </tr>\n",
       "    <tr>\n",
       "      <th>16846</th>\n",
       "      <td>Feeling so sorry for the girls, they should be...</td>\n",
       "      <td>0.0</td>\n",
       "      <td>feeling so sorry for the girls they should be ...</td>\n",
       "    </tr>\n",
       "    <tr>\n",
       "      <th>16847</th>\n",
       "      <td>#MKR 'pretty good dishes we're happy with' - O...</td>\n",
       "      <td>0.0</td>\n",
       "      <td>mkr pretty good dishes we are happy with ok we...</td>\n",
       "    </tr>\n",
       "    <tr>\n",
       "      <th>16848</th>\n",
       "      <td>RT @colonelkickhead: Deconstructed lemon tart!...</td>\n",
       "      <td>0.0</td>\n",
       "      <td>rt deconstructed lemon tart can we please go j...</td>\n",
       "    </tr>\n",
       "    <tr>\n",
       "      <th>16849</th>\n",
       "      <td>@versacezaynx @nyazpolitics @greenlinerzjm You...</td>\n",
       "      <td>0.0</td>\n",
       "      <td>you are too stupid to talk to blocked</td>\n",
       "    </tr>\n",
       "    <tr>\n",
       "      <th>16850</th>\n",
       "      <td>And before you protest that you're *not* mad, ...</td>\n",
       "      <td>0.0</td>\n",
       "      <td>and before you protest that you are not mad th...</td>\n",
       "    </tr>\n",
       "  </tbody>\n",
       "</table>\n",
       "<p>16851 rows × 3 columns</p>\n",
       "</div>"
      ],
      "text/plain": [
       "                                                    text  label  \\\n",
       "0      @halalflaws @biebervalue @greenlinerzjm I read...    0.0   \n",
       "1      @ShreyaBafna3 Now you idiots claim that people...    0.0   \n",
       "2      RT @Mooseoftorment Call me sexist, but when I ...    1.0   \n",
       "3      @g0ssipsquirrelx Wrong, ISIS follows the examp...    1.0   \n",
       "4                                 #mkr No No No No No No    0.0   \n",
       "...                                                  ...    ...   \n",
       "16846  Feeling so sorry for the girls, they should be...    0.0   \n",
       "16847  #MKR 'pretty good dishes we're happy with' - O...    0.0   \n",
       "16848  RT @colonelkickhead: Deconstructed lemon tart!...    0.0   \n",
       "16849  @versacezaynx @nyazpolitics @greenlinerzjm You...    0.0   \n",
       "16850  And before you protest that you're *not* mad, ...    0.0   \n",
       "\n",
       "                                            cleaned_text  \n",
       "0      i read them in context no change in meaning th...  \n",
       "1      now you idiots claim that people who tried to ...  \n",
       "2      rt call me sexist but when i go to an auto pla...  \n",
       "3      wrong isis follows the example of mohammed and...  \n",
       "4                                  mkr no no no no no no  \n",
       "...                                                  ...  \n",
       "16846  feeling so sorry for the girls they should be ...  \n",
       "16847  mkr pretty good dishes we are happy with ok we...  \n",
       "16848  rt deconstructed lemon tart can we please go j...  \n",
       "16849              you are too stupid to talk to blocked  \n",
       "16850  and before you protest that you are not mad th...  \n",
       "\n",
       "[16851 rows x 3 columns]"
      ]
     },
     "execution_count": 15,
     "metadata": {},
     "output_type": "execute_result"
    }
   ],
   "source": [
    "data['cleaned_text'] = data['text'].apply(lambda x: clean_text(str(x)))\n",
    "data"
   ]
  },
  {
   "cell_type": "code",
   "execution_count": 16,
   "metadata": {},
   "outputs": [
    {
     "name": "stderr",
     "output_type": "stream",
     "text": [
      "[nltk_data] Downloading package stopwords to\n",
      "[nltk_data]     C:\\Users\\Dell\\AppData\\Roaming\\nltk_data...\n",
      "[nltk_data]   Package stopwords is already up-to-date!\n"
     ]
    }
   ],
   "source": [
    "import nltk\n",
    "nltk.download('stopwords')\n",
    "stops = set(stopwords.words('english'))\n",
    "lemmatizer = WordNetLemmatizer()\n",
    "ps = PorterStemmer()\n",
    "\n",
    "def get_wordnet_pos(word):\n",
    "    \n",
    "    treebank_tag = nltk.pos_tag([word])[0][1]\n",
    "    \n",
    "    if treebank_tag.startswith('J'):\n",
    "        return wordnet.ADJ\n",
    "    elif treebank_tag.startswith('V'):\n",
    "        return wordnet.VERB\n",
    "    elif treebank_tag.startswith('N'):\n",
    "        return wordnet.NOUN\n",
    "    elif treebank_tag.startswith('R'):\n",
    "        return wordnet.ADV\n",
    "    else:\n",
    "        return wordnet.NOUN\n",
    "\n",
    "def correct_text(text, stem=False, lemma=False, spell=False):\n",
    "    if lemma and stem:\n",
    "        raise Exception('Either stem or lemma can be true, not both!')\n",
    "        return text\n",
    "    \n",
    "    sample = text\n",
    "    \n",
    "    #removing stopwords\n",
    "    sample = sample.lower()\n",
    "    sample = [word for word in sample.split() if not word in stops]\n",
    "    sample = ' '.join(sample)\n",
    "    \n",
    "    if lemma:\n",
    "        sample = sample.split()\n",
    "        sample = [lemmatizer.lemmatize(word.lower(), get_wordnet_pos(word.lower())) for word in sample]\n",
    "        sample = ' '.join(sample)\n",
    "        \n",
    "    if stem:\n",
    "        sample = sample.split()\n",
    "        sample = [ps.stem(word) for word in sample]\n",
    "        sample = ' '.join(sample)\n",
    "    \n",
    "    if spell:\n",
    "        sample = str(TextBlob(text).correct())\n",
    "    \n",
    "    return sample"
   ]
  },
  {
   "cell_type": "code",
   "execution_count": 17,
   "metadata": {},
   "outputs": [
    {
     "data": {
      "text/html": [
       "<div>\n",
       "<style scoped>\n",
       "    .dataframe tbody tr th:only-of-type {\n",
       "        vertical-align: middle;\n",
       "    }\n",
       "\n",
       "    .dataframe tbody tr th {\n",
       "        vertical-align: top;\n",
       "    }\n",
       "\n",
       "    .dataframe thead th {\n",
       "        text-align: right;\n",
       "    }\n",
       "</style>\n",
       "<table border=\"1\" class=\"dataframe\">\n",
       "  <thead>\n",
       "    <tr style=\"text-align: right;\">\n",
       "      <th></th>\n",
       "      <th>text</th>\n",
       "      <th>label</th>\n",
       "      <th>cleaned_text</th>\n",
       "      <th>correct_text</th>\n",
       "    </tr>\n",
       "  </thead>\n",
       "  <tbody>\n",
       "    <tr>\n",
       "      <th>0</th>\n",
       "      <td>@halalflaws @biebervalue @greenlinerzjm I read...</td>\n",
       "      <td>0.0</td>\n",
       "      <td>i read them in context no change in meaning th...</td>\n",
       "      <td>text</td>\n",
       "    </tr>\n",
       "    <tr>\n",
       "      <th>1</th>\n",
       "      <td>@ShreyaBafna3 Now you idiots claim that people...</td>\n",
       "      <td>0.0</td>\n",
       "      <td>now you idiots claim that people who tried to ...</td>\n",
       "      <td>text</td>\n",
       "    </tr>\n",
       "    <tr>\n",
       "      <th>2</th>\n",
       "      <td>RT @Mooseoftorment Call me sexist, but when I ...</td>\n",
       "      <td>1.0</td>\n",
       "      <td>rt call me sexist but when i go to an auto pla...</td>\n",
       "      <td>text</td>\n",
       "    </tr>\n",
       "    <tr>\n",
       "      <th>3</th>\n",
       "      <td>@g0ssipsquirrelx Wrong, ISIS follows the examp...</td>\n",
       "      <td>1.0</td>\n",
       "      <td>wrong isis follows the example of mohammed and...</td>\n",
       "      <td>text</td>\n",
       "    </tr>\n",
       "    <tr>\n",
       "      <th>4</th>\n",
       "      <td>#mkr No No No No No No</td>\n",
       "      <td>0.0</td>\n",
       "      <td>mkr no no no no no no</td>\n",
       "      <td>text</td>\n",
       "    </tr>\n",
       "    <tr>\n",
       "      <th>...</th>\n",
       "      <td>...</td>\n",
       "      <td>...</td>\n",
       "      <td>...</td>\n",
       "      <td>...</td>\n",
       "    </tr>\n",
       "    <tr>\n",
       "      <th>16846</th>\n",
       "      <td>Feeling so sorry for the girls, they should be...</td>\n",
       "      <td>0.0</td>\n",
       "      <td>feeling so sorry for the girls they should be ...</td>\n",
       "      <td>text</td>\n",
       "    </tr>\n",
       "    <tr>\n",
       "      <th>16847</th>\n",
       "      <td>#MKR 'pretty good dishes we're happy with' - O...</td>\n",
       "      <td>0.0</td>\n",
       "      <td>mkr pretty good dishes we are happy with ok we...</td>\n",
       "      <td>text</td>\n",
       "    </tr>\n",
       "    <tr>\n",
       "      <th>16848</th>\n",
       "      <td>RT @colonelkickhead: Deconstructed lemon tart!...</td>\n",
       "      <td>0.0</td>\n",
       "      <td>rt deconstructed lemon tart can we please go j...</td>\n",
       "      <td>text</td>\n",
       "    </tr>\n",
       "    <tr>\n",
       "      <th>16849</th>\n",
       "      <td>@versacezaynx @nyazpolitics @greenlinerzjm You...</td>\n",
       "      <td>0.0</td>\n",
       "      <td>you are too stupid to talk to blocked</td>\n",
       "      <td>text</td>\n",
       "    </tr>\n",
       "    <tr>\n",
       "      <th>16850</th>\n",
       "      <td>And before you protest that you're *not* mad, ...</td>\n",
       "      <td>0.0</td>\n",
       "      <td>and before you protest that you are not mad th...</td>\n",
       "      <td>text</td>\n",
       "    </tr>\n",
       "  </tbody>\n",
       "</table>\n",
       "<p>16851 rows × 4 columns</p>\n",
       "</div>"
      ],
      "text/plain": [
       "                                                    text  label  \\\n",
       "0      @halalflaws @biebervalue @greenlinerzjm I read...    0.0   \n",
       "1      @ShreyaBafna3 Now you idiots claim that people...    0.0   \n",
       "2      RT @Mooseoftorment Call me sexist, but when I ...    1.0   \n",
       "3      @g0ssipsquirrelx Wrong, ISIS follows the examp...    1.0   \n",
       "4                                 #mkr No No No No No No    0.0   \n",
       "...                                                  ...    ...   \n",
       "16846  Feeling so sorry for the girls, they should be...    0.0   \n",
       "16847  #MKR 'pretty good dishes we're happy with' - O...    0.0   \n",
       "16848  RT @colonelkickhead: Deconstructed lemon tart!...    0.0   \n",
       "16849  @versacezaynx @nyazpolitics @greenlinerzjm You...    0.0   \n",
       "16850  And before you protest that you're *not* mad, ...    0.0   \n",
       "\n",
       "                                            cleaned_text correct_text  \n",
       "0      i read them in context no change in meaning th...         text  \n",
       "1      now you idiots claim that people who tried to ...         text  \n",
       "2      rt call me sexist but when i go to an auto pla...         text  \n",
       "3      wrong isis follows the example of mohammed and...         text  \n",
       "4                                  mkr no no no no no no         text  \n",
       "...                                                  ...          ...  \n",
       "16846  feeling so sorry for the girls they should be ...         text  \n",
       "16847  mkr pretty good dishes we are happy with ok we...         text  \n",
       "16848  rt deconstructed lemon tart can we please go j...         text  \n",
       "16849              you are too stupid to talk to blocked         text  \n",
       "16850  and before you protest that you are not mad th...         text  \n",
       "\n",
       "[16851 rows x 4 columns]"
      ]
     },
     "execution_count": 17,
     "metadata": {},
     "output_type": "execute_result"
    }
   ],
   "source": [
    "data['correct_text'] = 'text'\n",
    "data"
   ]
  },
  {
   "cell_type": "code",
   "execution_count": 18,
   "metadata": {},
   "outputs": [
    {
     "name": "stderr",
     "output_type": "stream",
     "text": [
      "[nltk_data] Downloading package averaged_perceptron_tagger to\n",
      "[nltk_data]     C:\\Users\\Dell\\AppData\\Roaming\\nltk_data...\n",
      "[nltk_data]   Package averaged_perceptron_tagger is already up-to-\n",
      "[nltk_data]       date!\n",
      "[nltk_data] Downloading package wordnet to\n",
      "[nltk_data]     C:\\Users\\Dell\\AppData\\Roaming\\nltk_data...\n",
      "[nltk_data]   Package wordnet is already up-to-date!\n",
      "  0%|                                                                                        | 0/16851 [00:00<?, ?it/s]C:\\Users\\Dell\\AppData\\Local\\Temp/ipykernel_8080/2533298553.py:7: SettingWithCopyWarning: \n",
      "A value is trying to be set on a copy of a slice from a DataFrame\n",
      "\n",
      "See the caveats in the documentation: https://pandas.pydata.org/pandas-docs/stable/user_guide/indexing.html#returning-a-view-versus-a-copy\n",
      "  data['correct_text'][count] = correct_text(text, lemma=True)\n",
      "100%|███████████████████████████████████████████████████████████████████████████| 16851/16851 [01:39<00:00, 170.19it/s]\n"
     ]
    }
   ],
   "source": [
    "import nltk\n",
    "nltk.download('averaged_perceptron_tagger')\n",
    "import nltk\n",
    "nltk.download('wordnet')\n",
    "count = 0\n",
    "for text in tqdm(data['cleaned_text']):\n",
    "    data['correct_text'][count] = correct_text(text, lemma=True)\n",
    "    count +=1"
   ]
  },
  {
   "cell_type": "code",
   "execution_count": 19,
   "metadata": {},
   "outputs": [],
   "source": [
    "data['word_count'] = data['correct_text'].apply(lambda x: len(str(x).split(\" \")))\n",
    "data['char_count'] = data['correct_text'].str.len() ## this also includes spaces"
   ]
  },
  {
   "cell_type": "code",
   "execution_count": 20,
   "metadata": {},
   "outputs": [
    {
     "data": {
      "text/html": [
       "<div>\n",
       "<style scoped>\n",
       "    .dataframe tbody tr th:only-of-type {\n",
       "        vertical-align: middle;\n",
       "    }\n",
       "\n",
       "    .dataframe tbody tr th {\n",
       "        vertical-align: top;\n",
       "    }\n",
       "\n",
       "    .dataframe thead th {\n",
       "        text-align: right;\n",
       "    }\n",
       "</style>\n",
       "<table border=\"1\" class=\"dataframe\">\n",
       "  <thead>\n",
       "    <tr style=\"text-align: right;\">\n",
       "      <th></th>\n",
       "      <th>text</th>\n",
       "      <th>label</th>\n",
       "      <th>cleaned_text</th>\n",
       "      <th>correct_text</th>\n",
       "      <th>word_count</th>\n",
       "      <th>char_count</th>\n",
       "    </tr>\n",
       "  </thead>\n",
       "  <tbody>\n",
       "    <tr>\n",
       "      <th>0</th>\n",
       "      <td>@halalflaws @biebervalue @greenlinerzjm I read...</td>\n",
       "      <td>0.0</td>\n",
       "      <td>i read them in context no change in meaning th...</td>\n",
       "      <td>read context change meaning history islamic sl...</td>\n",
       "      <td>7</td>\n",
       "      <td>51</td>\n",
       "    </tr>\n",
       "    <tr>\n",
       "      <th>1</th>\n",
       "      <td>@ShreyaBafna3 Now you idiots claim that people...</td>\n",
       "      <td>0.0</td>\n",
       "      <td>now you idiots claim that people who tried to ...</td>\n",
       "      <td>idiot claim people try stop become terrorist m...</td>\n",
       "      <td>12</td>\n",
       "      <td>82</td>\n",
       "    </tr>\n",
       "    <tr>\n",
       "      <th>2</th>\n",
       "      <td>RT @Mooseoftorment Call me sexist, but when I ...</td>\n",
       "      <td>1.0</td>\n",
       "      <td>rt call me sexist but when i go to an auto pla...</td>\n",
       "      <td>rt call sexist go auto place would rather talk...</td>\n",
       "      <td>10</td>\n",
       "      <td>50</td>\n",
       "    </tr>\n",
       "    <tr>\n",
       "      <th>3</th>\n",
       "      <td>@g0ssipsquirrelx Wrong, ISIS follows the examp...</td>\n",
       "      <td>1.0</td>\n",
       "      <td>wrong isis follows the example of mohammed and...</td>\n",
       "      <td>wrong isi follow example mohammed quran exactly</td>\n",
       "      <td>7</td>\n",
       "      <td>47</td>\n",
       "    </tr>\n",
       "    <tr>\n",
       "      <th>4</th>\n",
       "      <td>#mkr No No No No No No</td>\n",
       "      <td>0.0</td>\n",
       "      <td>mkr no no no no no no</td>\n",
       "      <td>mkr</td>\n",
       "      <td>1</td>\n",
       "      <td>3</td>\n",
       "    </tr>\n",
       "    <tr>\n",
       "      <th>...</th>\n",
       "      <td>...</td>\n",
       "      <td>...</td>\n",
       "      <td>...</td>\n",
       "      <td>...</td>\n",
       "      <td>...</td>\n",
       "      <td>...</td>\n",
       "    </tr>\n",
       "    <tr>\n",
       "      <th>16846</th>\n",
       "      <td>Feeling so sorry for the girls, they should be...</td>\n",
       "      <td>0.0</td>\n",
       "      <td>feeling so sorry for the girls they should be ...</td>\n",
       "      <td>feel sorry girl safe kat andre go home mkr</td>\n",
       "      <td>9</td>\n",
       "      <td>42</td>\n",
       "    </tr>\n",
       "    <tr>\n",
       "      <th>16847</th>\n",
       "      <td>#MKR 'pretty good dishes we're happy with' - O...</td>\n",
       "      <td>0.0</td>\n",
       "      <td>mkr pretty good dishes we are happy with ok we...</td>\n",
       "      <td>mkr pretty good dish happy ok well never eat p...</td>\n",
       "      <td>10</td>\n",
       "      <td>50</td>\n",
       "    </tr>\n",
       "    <tr>\n",
       "      <th>16848</th>\n",
       "      <td>RT @colonelkickhead: Deconstructed lemon tart!...</td>\n",
       "      <td>0.0</td>\n",
       "      <td>rt deconstructed lemon tart can we please go j...</td>\n",
       "      <td>rt deconstruct lemon tart please go one season...</td>\n",
       "      <td>14</td>\n",
       "      <td>93</td>\n",
       "    </tr>\n",
       "    <tr>\n",
       "      <th>16849</th>\n",
       "      <td>@versacezaynx @nyazpolitics @greenlinerzjm You...</td>\n",
       "      <td>0.0</td>\n",
       "      <td>you are too stupid to talk to blocked</td>\n",
       "      <td>stupid talk block</td>\n",
       "      <td>3</td>\n",
       "      <td>17</td>\n",
       "    </tr>\n",
       "    <tr>\n",
       "      <th>16850</th>\n",
       "      <td>And before you protest that you're *not* mad, ...</td>\n",
       "      <td>0.0</td>\n",
       "      <td>and before you protest that you are not mad th...</td>\n",
       "      <td>protest mad much reason would tweet woman femi...</td>\n",
       "      <td>8</td>\n",
       "      <td>50</td>\n",
       "    </tr>\n",
       "  </tbody>\n",
       "</table>\n",
       "<p>16851 rows × 6 columns</p>\n",
       "</div>"
      ],
      "text/plain": [
       "                                                    text  label  \\\n",
       "0      @halalflaws @biebervalue @greenlinerzjm I read...    0.0   \n",
       "1      @ShreyaBafna3 Now you idiots claim that people...    0.0   \n",
       "2      RT @Mooseoftorment Call me sexist, but when I ...    1.0   \n",
       "3      @g0ssipsquirrelx Wrong, ISIS follows the examp...    1.0   \n",
       "4                                 #mkr No No No No No No    0.0   \n",
       "...                                                  ...    ...   \n",
       "16846  Feeling so sorry for the girls, they should be...    0.0   \n",
       "16847  #MKR 'pretty good dishes we're happy with' - O...    0.0   \n",
       "16848  RT @colonelkickhead: Deconstructed lemon tart!...    0.0   \n",
       "16849  @versacezaynx @nyazpolitics @greenlinerzjm You...    0.0   \n",
       "16850  And before you protest that you're *not* mad, ...    0.0   \n",
       "\n",
       "                                            cleaned_text  \\\n",
       "0      i read them in context no change in meaning th...   \n",
       "1      now you idiots claim that people who tried to ...   \n",
       "2      rt call me sexist but when i go to an auto pla...   \n",
       "3      wrong isis follows the example of mohammed and...   \n",
       "4                                  mkr no no no no no no   \n",
       "...                                                  ...   \n",
       "16846  feeling so sorry for the girls they should be ...   \n",
       "16847  mkr pretty good dishes we are happy with ok we...   \n",
       "16848  rt deconstructed lemon tart can we please go j...   \n",
       "16849              you are too stupid to talk to blocked   \n",
       "16850  and before you protest that you are not mad th...   \n",
       "\n",
       "                                            correct_text  word_count  \\\n",
       "0      read context change meaning history islamic sl...           7   \n",
       "1      idiot claim people try stop become terrorist m...          12   \n",
       "2      rt call sexist go auto place would rather talk...          10   \n",
       "3        wrong isi follow example mohammed quran exactly           7   \n",
       "4                                                    mkr           1   \n",
       "...                                                  ...         ...   \n",
       "16846         feel sorry girl safe kat andre go home mkr           9   \n",
       "16847  mkr pretty good dish happy ok well never eat p...          10   \n",
       "16848  rt deconstruct lemon tart please go one season...          14   \n",
       "16849                                  stupid talk block           3   \n",
       "16850  protest mad much reason would tweet woman femi...           8   \n",
       "\n",
       "       char_count  \n",
       "0              51  \n",
       "1              82  \n",
       "2              50  \n",
       "3              47  \n",
       "4               3  \n",
       "...           ...  \n",
       "16846          42  \n",
       "16847          50  \n",
       "16848          93  \n",
       "16849          17  \n",
       "16850          50  \n",
       "\n",
       "[16851 rows x 6 columns]"
      ]
     },
     "execution_count": 20,
     "metadata": {},
     "output_type": "execute_result"
    }
   ],
   "source": [
    "data"
   ]
  },
  {
   "cell_type": "code",
   "execution_count": 21,
   "metadata": {},
   "outputs": [
    {
     "data": {
      "text/plain": [
       "<AxesSubplot:>"
      ]
     },
     "execution_count": 21,
     "metadata": {},
     "output_type": "execute_result"
    },
    {
     "data": {
      "image/png": "[encoded data removed]",
      "text/plain": [
       "<Figure size 1440x720 with 1 Axes>"
      ]
     },
     "metadata": {
      "needs_background": "light"
     },
     "output_type": "display_data"
    }
   ],
   "source": [
    "plt.figure(figsize=(20,10))\n",
    "data['char_count'].value_counts().plot(kind='bar', color=sns.color_palette('pastel'))"
   ]
  },
  {
   "cell_type": "code",
   "execution_count": 22,
   "metadata": {},
   "outputs": [],
   "source": [
    "data = data[~(data['char_count'] == 0)].reset_index(drop=True)"
   ]
  },
  {
   "cell_type": "code",
   "execution_count": 23,
   "metadata": {},
   "outputs": [
    {
     "data": {
      "text/html": [
       "<div>\n",
       "<style scoped>\n",
       "    .dataframe tbody tr th:only-of-type {\n",
       "        vertical-align: middle;\n",
       "    }\n",
       "\n",
       "    .dataframe tbody tr th {\n",
       "        vertical-align: top;\n",
       "    }\n",
       "\n",
       "    .dataframe thead th {\n",
       "        text-align: right;\n",
       "    }\n",
       "</style>\n",
       "<table border=\"1\" class=\"dataframe\">\n",
       "  <thead>\n",
       "    <tr style=\"text-align: right;\">\n",
       "      <th></th>\n",
       "      <th>text</th>\n",
       "      <th>label</th>\n",
       "      <th>cleaned_text</th>\n",
       "      <th>correct_text</th>\n",
       "      <th>word_count</th>\n",
       "      <th>char_count</th>\n",
       "    </tr>\n",
       "  </thead>\n",
       "  <tbody>\n",
       "    <tr>\n",
       "      <th>0</th>\n",
       "      <td>@halalflaws @biebervalue @greenlinerzjm I read...</td>\n",
       "      <td>0.0</td>\n",
       "      <td>i read them in context no change in meaning th...</td>\n",
       "      <td>read context change meaning history islamic sl...</td>\n",
       "      <td>7</td>\n",
       "      <td>51</td>\n",
       "    </tr>\n",
       "    <tr>\n",
       "      <th>1</th>\n",
       "      <td>@ShreyaBafna3 Now you idiots claim that people...</td>\n",
       "      <td>0.0</td>\n",
       "      <td>now you idiots claim that people who tried to ...</td>\n",
       "      <td>idiot claim people try stop become terrorist m...</td>\n",
       "      <td>12</td>\n",
       "      <td>82</td>\n",
       "    </tr>\n",
       "    <tr>\n",
       "      <th>4</th>\n",
       "      <td>#mkr No No No No No No</td>\n",
       "      <td>0.0</td>\n",
       "      <td>mkr no no no no no no</td>\n",
       "      <td>mkr</td>\n",
       "      <td>1</td>\n",
       "      <td>3</td>\n",
       "    </tr>\n",
       "    <tr>\n",
       "      <th>5</th>\n",
       "      <td>RT @TRobinsonNewEra: http://t.co/nkkCbpcHEo Sa...</td>\n",
       "      <td>0.0</td>\n",
       "      <td>rt saudi preacher who raped and tortured his f...</td>\n",
       "      <td>rt saudi preacher rap torture five year old da...</td>\n",
       "      <td>11</td>\n",
       "      <td>66</td>\n",
       "    </tr>\n",
       "    <tr>\n",
       "      <th>7</th>\n",
       "      <td>Going to make some pancakes.....Don't hve any ...</td>\n",
       "      <td>0.0</td>\n",
       "      <td>going to make some pancakes do not hve any str...</td>\n",
       "      <td>go make pancake hve strawberry hve banana mkr</td>\n",
       "      <td>8</td>\n",
       "      <td>45</td>\n",
       "    </tr>\n",
       "    <tr>\n",
       "      <th>...</th>\n",
       "      <td>...</td>\n",
       "      <td>...</td>\n",
       "      <td>...</td>\n",
       "      <td>...</td>\n",
       "      <td>...</td>\n",
       "      <td>...</td>\n",
       "    </tr>\n",
       "    <tr>\n",
       "      <th>16546</th>\n",
       "      <td>Feeling so sorry for the girls, they should be...</td>\n",
       "      <td>0.0</td>\n",
       "      <td>feeling so sorry for the girls they should be ...</td>\n",
       "      <td>feel sorry girl safe kat andre go home mkr</td>\n",
       "      <td>9</td>\n",
       "      <td>42</td>\n",
       "    </tr>\n",
       "    <tr>\n",
       "      <th>16547</th>\n",
       "      <td>#MKR 'pretty good dishes we're happy with' - O...</td>\n",
       "      <td>0.0</td>\n",
       "      <td>mkr pretty good dishes we are happy with ok we...</td>\n",
       "      <td>mkr pretty good dish happy ok well never eat p...</td>\n",
       "      <td>10</td>\n",
       "      <td>50</td>\n",
       "    </tr>\n",
       "    <tr>\n",
       "      <th>16548</th>\n",
       "      <td>RT @colonelkickhead: Deconstructed lemon tart!...</td>\n",
       "      <td>0.0</td>\n",
       "      <td>rt deconstructed lemon tart can we please go j...</td>\n",
       "      <td>rt deconstruct lemon tart please go one season...</td>\n",
       "      <td>14</td>\n",
       "      <td>93</td>\n",
       "    </tr>\n",
       "    <tr>\n",
       "      <th>16549</th>\n",
       "      <td>@versacezaynx @nyazpolitics @greenlinerzjm You...</td>\n",
       "      <td>0.0</td>\n",
       "      <td>you are too stupid to talk to blocked</td>\n",
       "      <td>stupid talk block</td>\n",
       "      <td>3</td>\n",
       "      <td>17</td>\n",
       "    </tr>\n",
       "    <tr>\n",
       "      <th>16550</th>\n",
       "      <td>And before you protest that you're *not* mad, ...</td>\n",
       "      <td>0.0</td>\n",
       "      <td>and before you protest that you are not mad th...</td>\n",
       "      <td>protest mad much reason would tweet woman femi...</td>\n",
       "      <td>8</td>\n",
       "      <td>50</td>\n",
       "    </tr>\n",
       "  </tbody>\n",
       "</table>\n",
       "<p>11210 rows × 6 columns</p>\n",
       "</div>"
      ],
      "text/plain": [
       "                                                    text  label  \\\n",
       "0      @halalflaws @biebervalue @greenlinerzjm I read...    0.0   \n",
       "1      @ShreyaBafna3 Now you idiots claim that people...    0.0   \n",
       "4                                 #mkr No No No No No No    0.0   \n",
       "5      RT @TRobinsonNewEra: http://t.co/nkkCbpcHEo Sa...    0.0   \n",
       "7      Going to make some pancakes.....Don't hve any ...    0.0   \n",
       "...                                                  ...    ...   \n",
       "16546  Feeling so sorry for the girls, they should be...    0.0   \n",
       "16547  #MKR 'pretty good dishes we're happy with' - O...    0.0   \n",
       "16548  RT @colonelkickhead: Deconstructed lemon tart!...    0.0   \n",
       "16549  @versacezaynx @nyazpolitics @greenlinerzjm You...    0.0   \n",
       "16550  And before you protest that you're *not* mad, ...    0.0   \n",
       "\n",
       "                                            cleaned_text  \\\n",
       "0      i read them in context no change in meaning th...   \n",
       "1      now you idiots claim that people who tried to ...   \n",
       "4                                  mkr no no no no no no   \n",
       "5      rt saudi preacher who raped and tortured his f...   \n",
       "7      going to make some pancakes do not hve any str...   \n",
       "...                                                  ...   \n",
       "16546  feeling so sorry for the girls they should be ...   \n",
       "16547  mkr pretty good dishes we are happy with ok we...   \n",
       "16548  rt deconstructed lemon tart can we please go j...   \n",
       "16549              you are too stupid to talk to blocked   \n",
       "16550  and before you protest that you are not mad th...   \n",
       "\n",
       "                                            correct_text  word_count  \\\n",
       "0      read context change meaning history islamic sl...           7   \n",
       "1      idiot claim people try stop become terrorist m...          12   \n",
       "4                                                    mkr           1   \n",
       "5      rt saudi preacher rap torture five year old da...          11   \n",
       "7          go make pancake hve strawberry hve banana mkr           8   \n",
       "...                                                  ...         ...   \n",
       "16546         feel sorry girl safe kat andre go home mkr           9   \n",
       "16547  mkr pretty good dish happy ok well never eat p...          10   \n",
       "16548  rt deconstruct lemon tart please go one season...          14   \n",
       "16549                                  stupid talk block           3   \n",
       "16550  protest mad much reason would tweet woman femi...           8   \n",
       "\n",
       "       char_count  \n",
       "0              51  \n",
       "1              82  \n",
       "4               3  \n",
       "5              66  \n",
       "7              45  \n",
       "...           ...  \n",
       "16546          42  \n",
       "16547          50  \n",
       "16548          93  \n",
       "16549          17  \n",
       "16550          50  \n",
       "\n",
       "[11210 rows x 6 columns]"
      ]
     },
     "execution_count": 23,
     "metadata": {},
     "output_type": "execute_result"
    }
   ],
   "source": [
    "data[(data['label'] == 0)]"
   ]
  },
  {
   "cell_type": "code",
   "execution_count": 24,
   "metadata": {},
   "outputs": [],
   "source": [
    "final_data = data.drop(columns=['text', 'cleaned_text', 'word_count', 'char_count'])\n",
    "# final_data.to_csv(\"final_cleaned_data.csv\", index=False)"
   ]
  },
  {
   "cell_type": "code",
   "execution_count": 25,
   "metadata": {},
   "outputs": [
    {
     "data": {
      "text/html": [
       "<div>\n",
       "<style scoped>\n",
       "    .dataframe tbody tr th:only-of-type {\n",
       "        vertical-align: middle;\n",
       "    }\n",
       "\n",
       "    .dataframe tbody tr th {\n",
       "        vertical-align: top;\n",
       "    }\n",
       "\n",
       "    .dataframe thead th {\n",
       "        text-align: right;\n",
       "    }\n",
       "</style>\n",
       "<table border=\"1\" class=\"dataframe\">\n",
       "  <thead>\n",
       "    <tr style=\"text-align: right;\">\n",
       "      <th></th>\n",
       "      <th>label</th>\n",
       "      <th>correct_text</th>\n",
       "    </tr>\n",
       "  </thead>\n",
       "  <tbody>\n",
       "    <tr>\n",
       "      <th>0</th>\n",
       "      <td>0.0</td>\n",
       "      <td>read context change meaning history islamic sl...</td>\n",
       "    </tr>\n",
       "    <tr>\n",
       "      <th>1</th>\n",
       "      <td>0.0</td>\n",
       "      <td>idiot claim people try stop become terrorist m...</td>\n",
       "    </tr>\n",
       "    <tr>\n",
       "      <th>2</th>\n",
       "      <td>1.0</td>\n",
       "      <td>rt call sexist go auto place would rather talk...</td>\n",
       "    </tr>\n",
       "    <tr>\n",
       "      <th>3</th>\n",
       "      <td>1.0</td>\n",
       "      <td>wrong isi follow example mohammed quran exactly</td>\n",
       "    </tr>\n",
       "    <tr>\n",
       "      <th>4</th>\n",
       "      <td>0.0</td>\n",
       "      <td>mkr</td>\n",
       "    </tr>\n",
       "    <tr>\n",
       "      <th>...</th>\n",
       "      <td>...</td>\n",
       "      <td>...</td>\n",
       "    </tr>\n",
       "    <tr>\n",
       "      <th>16546</th>\n",
       "      <td>0.0</td>\n",
       "      <td>feel sorry girl safe kat andre go home mkr</td>\n",
       "    </tr>\n",
       "    <tr>\n",
       "      <th>16547</th>\n",
       "      <td>0.0</td>\n",
       "      <td>mkr pretty good dish happy ok well never eat p...</td>\n",
       "    </tr>\n",
       "    <tr>\n",
       "      <th>16548</th>\n",
       "      <td>0.0</td>\n",
       "      <td>rt deconstruct lemon tart please go one season...</td>\n",
       "    </tr>\n",
       "    <tr>\n",
       "      <th>16549</th>\n",
       "      <td>0.0</td>\n",
       "      <td>stupid talk block</td>\n",
       "    </tr>\n",
       "    <tr>\n",
       "      <th>16550</th>\n",
       "      <td>0.0</td>\n",
       "      <td>protest mad much reason would tweet woman femi...</td>\n",
       "    </tr>\n",
       "  </tbody>\n",
       "</table>\n",
       "<p>16551 rows × 2 columns</p>\n",
       "</div>"
      ],
      "text/plain": [
       "       label                                       correct_text\n",
       "0        0.0  read context change meaning history islamic sl...\n",
       "1        0.0  idiot claim people try stop become terrorist m...\n",
       "2        1.0  rt call sexist go auto place would rather talk...\n",
       "3        1.0    wrong isi follow example mohammed quran exactly\n",
       "4        0.0                                                mkr\n",
       "...      ...                                                ...\n",
       "16546    0.0         feel sorry girl safe kat andre go home mkr\n",
       "16547    0.0  mkr pretty good dish happy ok well never eat p...\n",
       "16548    0.0  rt deconstruct lemon tart please go one season...\n",
       "16549    0.0                                  stupid talk block\n",
       "16550    0.0  protest mad much reason would tweet woman femi...\n",
       "\n",
       "[16551 rows x 2 columns]"
      ]
     },
     "execution_count": 25,
     "metadata": {},
     "output_type": "execute_result"
    }
   ],
   "source": [
    "# final_data = pd.read_csv('final_cleaned_data.csv')\n",
    "final_data"
   ]
  },
  {
   "cell_type": "code",
   "execution_count": 26,
   "metadata": {},
   "outputs": [],
   "source": [
    "# load doc and add to vocab\n",
    "def build_vocab(vocab_obj, text):\n",
    "    sample = text\n",
    "    tokens = [word for word in sample.split()]\n",
    "    vocab_obj.update(tokens)\n",
    "\n",
    "def save__vocab_list(vocab, filename):\n",
    "    lines = [a for a in vocab.keys()]\n",
    "    # convert lines to a single blob of text\n",
    "    data = '\\n'.join(lines)\n",
    "    # open file\n",
    "    file = open(filename, 'w', encoding=\"utf-8\")\n",
    "    # write text\n",
    "    file.write(data)\n",
    "    # close file\n",
    "    file.close()\n"
   ]
  },
  {
   "cell_type": "code",
   "execution_count": 27,
   "metadata": {},
   "outputs": [],
   "source": [
    "vocab = Counter()\n",
    "for text in final_data['correct_text']:\n",
    "    build_vocab(vocab, text)"
   ]
  },
  {
   "cell_type": "code",
   "execution_count": 29,
   "metadata": {},
   "outputs": [],
   "source": [
    "save__vocab_list(vocab, 'vocab.txt')"
   ]
  },
  {
   "cell_type": "code",
   "execution_count": 30,
   "metadata": {},
   "outputs": [],
   "source": [
    "def create_tokenizer(lines):\n",
    "    tokenizer = Tokenizer()\n",
    "    tokenizer.fit_on_texts(lines)\n",
    "    return tokenizer\n",
    "\n",
    "def encode_docs(tokenizer, max_length, docs):\n",
    "    # integer encode\n",
    "    encoded = tokenizer.texts_to_sequences(docs)\n",
    "    # pad sequences\n",
    "    padded = pad_sequences(encoded, maxlen=max_length, padding='post')\n",
    "    return padded\n",
    "\n",
    "#  define the model\n",
    "def define_model(vocab_size, max_length, n_words):\n",
    "    model = Sequential()\n",
    "    model.add(Embedding(vocab_size, 100, input_length=max_length))\n",
    "    model.add(Flatten(input_shape=(n_words,)))\n",
    "    model.add(Dense(45, activation='relu'))\n",
    "    model.add(Dense(1, activation='sigmoid'))\n",
    "    optimizer = Adam(0.0001)\n",
    "    model.compile(loss='binary_crossentropy', optimizer=optimizer, metrics=['accuracy'])\n",
    "    model.summary()\n",
    "    return model\n"
   ]
  },
  {
   "cell_type": "code",
   "execution_count": 31,
   "metadata": {},
   "outputs": [],
   "source": [
    "X = final_data['correct_text']\n",
    "y = final_data['label']"
   ]
  },
  {
   "cell_type": "code",
   "execution_count": 32,
   "metadata": {},
   "outputs": [],
   "source": [
    "X_train, X_test, y_train, y_test = train_test_split(X, y, test_size=0.33, random_state=101)"
   ]
  },
  {
   "cell_type": "code",
   "execution_count": 33,
   "metadata": {},
   "outputs": [],
   "source": [
    "X_train.fillna(\" \", axis=0, inplace=True)\n",
    "X_test.fillna(\" \", axis=0, inplace=True)\n",
    "y_train.fillna(0.0, inplace=True)\n",
    "y_test.fillna(1.0, inplace=True)"
   ]
  },
  {
   "cell_type": "code",
   "execution_count": 34,
   "metadata": {},
   "outputs": [],
   "source": [
    "vocab_set = set([x for x in vocab if len(x)>2])\n",
    "\n",
    "tokenizer = create_tokenizer(X_train.values)\n",
    "vocab_size = len(tokenizer.word_index) + 1\n",
    "max_length = max([len(s.split()) for s in X_train])"
   ]
  },
  {
   "cell_type": "code",
   "execution_count": 35,
   "metadata": {},
   "outputs": [],
   "source": [
    "x_train = encode_docs(tokenizer, max_length, X_train.values)\n",
    "x_test = encode_docs(tokenizer, max_length, X_test.values)"
   ]
  },
  {
   "cell_type": "code",
   "execution_count": 36,
   "metadata": {},
   "outputs": [
    {
     "name": "stdout",
     "output_type": "stream",
     "text": [
      "WARNING:tensorflow:From C:\\Users\\Dell\\OneDrive\\Documents\\lib\\site-packages\\keras\\src\\backend.py:873: The name tf.get_default_graph is deprecated. Please use tf.compat.v1.get_default_graph instead.\n",
      "\n",
      "Model: \"sequential\"\n",
      "_________________________________________________________________\n",
      " Layer (type)                Output Shape              Param #   \n",
      "=================================================================\n",
      " embedding (Embedding)       (None, 23, 100)           1047500   \n",
      "                                                                 \n",
      " flatten (Flatten)           (None, 2300)              0         \n",
      "                                                                 \n",
      " dense (Dense)               (None, 45)                103545    \n",
      "                                                                 \n",
      " dense_1 (Dense)             (None, 1)                 46        \n",
      "                                                                 \n",
      "=================================================================\n",
      "Total params: 1151091 (4.39 MB)\n",
      "Trainable params: 1151091 (4.39 MB)\n",
      "Non-trainable params: 0 (0.00 Byte)\n",
      "_________________________________________________________________\n"
     ]
    }
   ],
   "source": [
    "import tensorflow as tf\n",
    "from tensorflow.keras.models import Sequential\n",
    "from tensorflow.keras.layers import Embedding, Flatten\n",
    "from keras.models import Sequential\n",
    "from keras.layers import Embedding, Flatten\n",
    "\n",
    "\n",
    "clf_model = define_model(vocab_size, max_length, x_train.shape[1])"
   ]
  },
  {
   "cell_type": "code",
   "execution_count": 37,
   "metadata": {},
   "outputs": [
    {
     "name": "stdout",
     "output_type": "stream",
     "text": [
      "Epoch 1/10\n",
      "WARNING:tensorflow:From C:\\Users\\Dell\\OneDrive\\Documents\\lib\\site-packages\\keras\\src\\utils\\tf_utils.py:492: The name tf.ragged.RaggedTensorValue is deprecated. Please use tf.compat.v1.ragged.RaggedTensorValue instead.\n",
      "\n",
      "WARNING:tensorflow:From C:\\Users\\Dell\\OneDrive\\Documents\\lib\\site-packages\\keras\\src\\engine\\base_layer_utils.py:384: The name tf.executing_eagerly_outside_functions is deprecated. Please use tf.compat.v1.executing_eagerly_outside_functions instead.\n",
      "\n",
      "150/150 - 7s - loss: 0.6229 - accuracy: 0.6737 - 7s/epoch - 44ms/step\n",
      "Epoch 2/10\n",
      "150/150 - 2s - loss: 0.5841 - accuracy: 0.6935 - 2s/epoch - 14ms/step\n",
      "Epoch 3/10\n",
      "150/150 - 2s - loss: 0.5203 - accuracy: 0.7668 - 2s/epoch - 13ms/step\n",
      "Epoch 4/10\n",
      "150/150 - 2s - loss: 0.4355 - accuracy: 0.8232 - 2s/epoch - 12ms/step\n",
      "Epoch 5/10\n",
      "150/150 - 2s - loss: 0.3679 - accuracy: 0.8493 - 2s/epoch - 12ms/step\n",
      "Epoch 6/10\n",
      "150/150 - 2s - loss: 0.3178 - accuracy: 0.8763 - 2s/epoch - 12ms/step\n",
      "Epoch 7/10\n",
      "150/150 - 2s - loss: 0.2776 - accuracy: 0.8950 - 2s/epoch - 12ms/step\n",
      "Epoch 8/10\n",
      "150/150 - 2s - loss: 0.2436 - accuracy: 0.9101 - 2s/epoch - 12ms/step\n",
      "Epoch 9/10\n",
      "150/150 - 2s - loss: 0.2138 - accuracy: 0.9242 - 2s/epoch - 14ms/step\n",
      "Epoch 10/10\n",
      "150/150 - 2s - loss: 0.1874 - accuracy: 0.9362 - 2s/epoch - 12ms/step\n"
     ]
    },
    {
     "data": {
      "text/plain": [
       "<keras.src.callbacks.History at 0x1503744cf70>"
      ]
     },
     "execution_count": 37,
     "metadata": {},
     "output_type": "execute_result"
    }
   ],
   "source": [
    "clf_model.fit(x_train, y_train.values, epochs=10, verbose=2, batch_size=74)"
   ]
  },
  {
   "cell_type": "code",
   "execution_count": 38,
   "metadata": {},
   "outputs": [
    {
     "data": {
      "text/plain": [
       "0.9461628794670105"
      ]
     },
     "execution_count": 38,
     "metadata": {},
     "output_type": "execute_result"
    }
   ],
   "source": [
    "clf_model.evaluate(x_train, y_train, verbose=0)[1]"
   ]
  },
  {
   "cell_type": "code",
   "execution_count": 39,
   "metadata": {},
   "outputs": [
    {
     "data": {
      "text/plain": [
       "0.8222262859344482"
      ]
     },
     "execution_count": 39,
     "metadata": {},
     "output_type": "execute_result"
    }
   ],
   "source": [
    "clf_model.evaluate(x_test, y_test, verbose=0)[1]"
   ]
  },
  {
   "cell_type": "code",
   "execution_count": 40,
   "metadata": {},
   "outputs": [
    {
     "name": "stdout",
     "output_type": "stream",
     "text": [
      "1/1 [==============================] - 0s 141ms/step\n"
     ]
    },
    {
     "data": {
      "text/plain": [
       "0.72350794"
      ]
     },
     "execution_count": 40,
     "metadata": {},
     "output_type": "execute_result"
    }
   ],
   "source": [
    "clf_model.predict(x_test[0].reshape(1,-1))[0,0]"
   ]
  },
  {
   "cell_type": "code",
   "execution_count": 41,
   "metadata": {},
   "outputs": [],
   "source": [
    "def predict_sentiment(text, vocab=vocab_set, tokenizer=tokenizer, max_length=max_length, model=clf_model):\n",
    "    line = text\n",
    "    # clean review\n",
    "    line = clean_text(line)\n",
    "    line = correct_text(line)\n",
    "    line = \" \".join([word for word in line.split() if word in vocab])\n",
    "    # encode and pad review\n",
    "    padded = encode_docs(tokenizer, max_length, [line])\n",
    "    # predict sentiment\n",
    "    yhat = model.predict(padded, verbose=0)\n",
    "#     print(yhat)\n",
    "    # retrieve predicted percentage and label\n",
    "    percent_pos = yhat[0,0]\n",
    "    if round(percent_pos) == 0:\n",
    "        return (1-percent_pos), 'NEGATIVE'\n",
    "    return percent_pos, 'POSITIVE'\n"
   ]
  },
  {
   "cell_type": "code",
   "execution_count": 42,
   "metadata": {},
   "outputs": [
    {
     "data": {
      "text/plain": [
       "(0.967494647949934, 'NEGATIVE')"
      ]
     },
     "execution_count": 42,
     "metadata": {},
     "output_type": "execute_result"
    }
   ],
   "source": [
    "predict_sentiment(final_data['correct_text'][200], vocab_set, tokenizer, max_length, clf_model)"
   ]
  },
  {
   "cell_type": "code",
   "execution_count": 43,
   "metadata": {},
   "outputs": [
    {
     "name": "stderr",
     "output_type": "stream",
     "text": [
      "C:\\Users\\Dell\\OneDrive\\Documents\\lib\\site-packages\\keras\\src\\engine\\training.py:3103: UserWarning: You are saving your model as an HDF5 file via `model.save()`. This file format is considered legacy. We recommend using instead the native Keras format, e.g. `model.save('my_model.keras')`.\n",
      "  saving_api.save_model(\n"
     ]
    }
   ],
   "source": [
    "clf_model.save('cyber_det.h5')"
   ]
  },
  {
   "cell_type": "code",
   "execution_count": null,
   "metadata": {},
   "outputs": [],
   "source": []
  }
 ],
 "metadata": {
  "kernelspec": {
   "display_name": "Python 3 (ipykernel)",
   "language": "python",
   "name": "python3"
  },
  "language_info": {
   "codemirror_mode": {
    "name": "ipython",
    "version": 3
   },
   "file_extension": ".py",
   "mimetype": "text/x-python",
   "name": "python",
   "nbconvert_exporter": "python",
   "pygments_lexer": "ipython3",
   "version": "3.9.7"
  }
 },
 "nbformat": 4,
 "nbformat_minor": 2
}
